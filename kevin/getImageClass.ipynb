{
 "cells": [
  {
   "cell_type": "code",
   "execution_count": 25,
   "metadata": {},
   "outputs": [
    {
     "name": "stdout",
     "output_type": "stream",
     "text": [
      "Tree_Swallow\n"
     ]
    }
   ],
   "source": [
    "import tensorflow as tf\n",
    "import numpy as np\n",
    "from keras.models import load_model\n",
    "from keras.preprocessing.image import img_to_array, load_img\n",
    "import pandas as pd\n",
    "\n",
    "img_width, img_height = 150, 150\n",
    "\n",
    "test_model = load_model('../jill/birds_model2.h5')\n",
    "img = load_img('../jill/image_to_predict.jpg',False,target_size=(img_width,img_height))\n",
    "x = img_to_array(img)\n",
    "x = np.expand_dims(x, axis=0)\n",
    "img_id = test_model.predict_classes(x)[0]\n",
    "\n",
    "file = \"../data/classes.csv\"\n",
    "file_df = pd.read_csv(file)\n",
    "\n",
    "birdClass = file_df.loc[file_df[\"id\"] == img_id][\"name\"].unique()[0]\n",
    "\n",
    "print(birdClass)"
   ]
  },
  {
   "cell_type": "code",
   "execution_count": null,
   "metadata": {},
   "outputs": [],
   "source": []
  }
 ],
 "metadata": {
  "celltoolbar": "Raw Cell Format",
  "kernelspec": {
   "display_name": "Python 3",
   "language": "python",
   "name": "python3"
  },
  "language_info": {
   "codemirror_mode": {
    "name": "ipython",
    "version": 3
   },
   "file_extension": ".py",
   "mimetype": "text/x-python",
   "name": "python",
   "nbconvert_exporter": "python",
   "pygments_lexer": "ipython3",
   "version": "3.6.8"
  }
 },
 "nbformat": 4,
 "nbformat_minor": 2
}
