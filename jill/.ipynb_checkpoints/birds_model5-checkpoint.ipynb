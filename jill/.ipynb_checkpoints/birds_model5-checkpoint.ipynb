{
 "cells": [
  {
   "cell_type": "code",
   "execution_count": 1,
   "metadata": {},
   "outputs": [
    {
     "name": "stderr",
     "output_type": "stream",
     "text": [
      "Using TensorFlow backend.\n"
     ]
    }
   ],
   "source": [
    "import time\n",
    "import tensorflow as tf\n",
    "import numpy as np\n",
    "from keras.preprocessing.image import ImageDataGenerator\n",
    "from keras.models import Sequential\n",
    "from keras.layers import Conv2D, MaxPooling2D\n",
    "from keras.layers import Activation, Dropout, Flatten, Dense\n",
    "from keras import backend as K"
   ]
  },
  {
   "cell_type": "code",
   "execution_count": 3,
   "metadata": {},
   "outputs": [],
   "source": [
    "# dimensions of our images.\n",
    "img_width, img_height = 150, 150"
   ]
  },
  {
   "cell_type": "code",
   "execution_count": 3,
   "metadata": {},
   "outputs": [],
   "source": [
    "train_data_dir = 'data/train'\n",
    "validation_data_dir = 'data/validation'\n",
    "nb_train_samples = 5942\n",
    "nb_validation_samples = 5875\n",
    "epochs = 50\n",
    "batch_size = 16"
   ]
  },
  {
   "cell_type": "code",
   "execution_count": 4,
   "metadata": {},
   "outputs": [],
   "source": [
    "if K.image_data_format() == 'channels_first':\n",
    "    input_shape = (3, img_width, img_height)\n",
    "else:\n",
    "    input_shape = (img_width, img_height, 3)"
   ]
  },
  {
   "cell_type": "code",
   "execution_count": 5,
   "metadata": {},
   "outputs": [
    {
     "name": "stdout",
     "output_type": "stream",
     "text": [
      "WARNING:tensorflow:From C:\\Users\\Jarod\\Anaconda3\\envs\\PythonData\\lib\\site-packages\\tensorflow\\python\\framework\\op_def_library.py:263: colocate_with (from tensorflow.python.framework.ops) is deprecated and will be removed in a future version.\n",
      "Instructions for updating:\n",
      "Colocations handled automatically by placer.\n",
      "WARNING:tensorflow:From C:\\Users\\Jarod\\Anaconda3\\envs\\PythonData\\lib\\site-packages\\keras\\backend\\tensorflow_backend.py:3445: calling dropout (from tensorflow.python.ops.nn_ops) with keep_prob is deprecated and will be removed in a future version.\n",
      "Instructions for updating:\n",
      "Please use `rate` instead of `keep_prob`. Rate should be set to `rate = 1 - keep_prob`.\n"
     ]
    }
   ],
   "source": [
    "model = Sequential()\n",
    "model.add(Conv2D(32, (3, 3), input_shape=input_shape))\n",
    "model.add(Activation('relu'))\n",
    "model.add(MaxPooling2D(pool_size=(2, 2)))\n",
    "\n",
    "model.add(Conv2D(32, (3, 3)))\n",
    "model.add(Activation('relu'))\n",
    "model.add(MaxPooling2D(pool_size=(2, 2)))\n",
    "\n",
    "model.add(Conv2D(64, (3, 3)))\n",
    "model.add(Activation('relu'))\n",
    "model.add(MaxPooling2D(pool_size=(2, 2)))\n",
    "\n",
    "model.add(Flatten())\n",
    "model.add(Dense(64))\n",
    "model.add(Activation('relu'))\n",
    "model.add(Dropout(0.5))\n",
    "model.add(Dense(200))\n",
    "model.add(Activation('softmax'))\n",
    "model.compile(loss='categorical_crossentropy',\n",
    "              optimizer='rmsprop',\n",
    "              metrics=['accuracy'])\n"
   ]
  },
  {
   "cell_type": "code",
   "execution_count": 6,
   "metadata": {},
   "outputs": [],
   "source": [
    "# this is the augmentation configuration we will use for training\n",
    "train_datagen = ImageDataGenerator(\n",
    "    rescale=1. / 255,\n",
    "    shear_range=0.2,\n",
    "    zoom_range=0.2,\n",
    "    horizontal_flip=True)"
   ]
  },
  {
   "cell_type": "code",
   "execution_count": 7,
   "metadata": {
    "scrolled": true
   },
   "outputs": [
    {
     "name": "stdout",
     "output_type": "stream",
     "text": [
      "Found 1036 images belonging to 200 classes.\n",
      "train_generator\n",
      "Found 409 images belonging to 200 classes.\n",
      "validation_generator\n",
      "WARNING:tensorflow:From C:\\Users\\Jarod\\Anaconda3\\envs\\PythonData\\lib\\site-packages\\tensorflow\\python\\ops\\math_ops.py:3066: to_int32 (from tensorflow.python.ops.math_ops) is deprecated and will be removed in a future version.\n",
      "Instructions for updating:\n",
      "Use tf.cast instead.\n",
      "Epoch 1/50\n",
      "5942/5942 [==============================] - 2661s 448ms/step - loss: 3.3241 - acc: 0.2438 - val_loss: 7.0459 - val_acc: 0.0416\n",
      "Epoch 2/50\n",
      "5942/5942 [==============================] - 2717s 457ms/step - loss: 2.1437 - acc: 0.4729 - val_loss: 8.8450 - val_acc: 0.0489\n",
      "Epoch 3/50\n",
      "5942/5942 [==============================] - 2583s 435ms/step - loss: 2.4560 - acc: 0.4417 - val_loss: 10.1141 - val_acc: 0.0465\n",
      "Epoch 4/50\n",
      "5942/5942 [==============================] - 2574s 433ms/step - loss: 2.6974 - acc: 0.4114 - val_loss: 8.8414 - val_acc: 0.0367\n",
      "Epoch 5/50\n",
      "5942/5942 [==============================] - 2589s 436ms/step - loss: 2.9837 - acc: 0.3760 - val_loss: 10.0939 - val_acc: 0.0611\n",
      "Epoch 6/50\n",
      "5942/5942 [==============================] - 2594s 437ms/step - loss: 3.8978 - acc: 0.2504 - val_loss: 6.7210 - val_acc: 0.0122\n",
      "Epoch 7/50\n",
      "5942/5942 [==============================] - 2589s 436ms/step - loss: 4.0465 - acc: 0.2115 - val_loss: 8.8886 - val_acc: 0.0391\n",
      "Epoch 8/50\n",
      "5942/5942 [==============================] - 2590s 436ms/step - loss: 4.1151 - acc: 0.1993 - val_loss: 6.7364 - val_acc: 0.0269\n",
      "Epoch 9/50\n",
      "5942/5942 [==============================] - 2585s 435ms/step - loss: 4.1057 - acc: 0.1940 - val_loss: 6.4964 - val_acc: 0.0220\n",
      "Epoch 10/50\n",
      "5942/5942 [==============================] - 2585s 435ms/step - loss: 4.0077 - acc: 0.1950 - val_loss: 6.8937 - val_acc: 0.0465\n",
      "Epoch 11/50\n",
      "5942/5942 [==============================] - 2588s 436ms/step - loss: 3.8659 - acc: 0.2090 - val_loss: 6.7571 - val_acc: 0.0366\n",
      "Epoch 12/50\n",
      "5942/5942 [==============================] - 2596s 437ms/step - loss: 3.7575 - acc: 0.2187 - val_loss: 6.4793 - val_acc: 0.0343\n",
      "Epoch 13/50\n",
      "5942/5942 [==============================] - 2585s 435ms/step - loss: 3.6721 - acc: 0.2339 - val_loss: 7.2551 - val_acc: 0.0196\n",
      "Epoch 14/50\n",
      "5942/5942 [==============================] - 2590s 436ms/step - loss: 3.4672 - acc: 0.2554 - val_loss: 7.4590 - val_acc: 0.0269\n",
      "Epoch 15/50\n",
      "5942/5942 [==============================] - 2588s 436ms/step - loss: 3.3956 - acc: 0.2658 - val_loss: 7.2331 - val_acc: 0.0269\n",
      "Epoch 16/50\n",
      "5942/5942 [==============================] - 2590s 436ms/step - loss: 3.3290 - acc: 0.2735 - val_loss: 6.2076 - val_acc: 0.0342\n",
      "Epoch 17/50\n",
      "5942/5942 [==============================] - 2585s 435ms/step - loss: 3.6203 - acc: 0.2764 - val_loss: 7.7883 - val_acc: 0.0318\n",
      "Epoch 18/50\n",
      "5942/5942 [==============================] - 2584s 435ms/step - loss: 3.2133 - acc: 0.2939 - val_loss: 7.0167 - val_acc: 0.0318\n",
      "Epoch 19/50\n",
      "5942/5942 [==============================] - 2589s 436ms/step - loss: 3.1706 - acc: 0.3011 - val_loss: 8.7325 - val_acc: 0.0391\n",
      "Epoch 20/50\n",
      "5942/5942 [==============================] - 2587s 435ms/step - loss: 3.1125 - acc: 0.3090 - val_loss: 7.6891 - val_acc: 0.0415\n",
      "Epoch 21/50\n",
      "5942/5942 [==============================] - 2584s 435ms/step - loss: 3.0478 - acc: 0.3178 - val_loss: 6.8660 - val_acc: 0.0465\n",
      "Epoch 22/50\n",
      "5942/5942 [==============================] - 2590s 436ms/step - loss: 3.0332 - acc: 0.3211 - val_loss: 7.4739 - val_acc: 0.0294\n",
      "Epoch 23/50\n",
      "5942/5942 [==============================] - 2593s 436ms/step - loss: 3.0189 - acc: 0.3222 - val_loss: 7.5979 - val_acc: 0.0343\n",
      "Epoch 24/50\n",
      "5942/5942 [==============================] - 2594s 437ms/step - loss: 2.9708 - acc: 0.3315 - val_loss: 7.6785 - val_acc: 0.0318\n",
      "Epoch 25/50\n",
      "5942/5942 [==============================] - 2586s 435ms/step - loss: 2.9467 - acc: 0.3381 - val_loss: 8.5855 - val_acc: 0.0538\n",
      "Epoch 26/50\n",
      "5942/5942 [==============================] - 2584s 435ms/step - loss: 2.9367 - acc: 0.3375 - val_loss: 7.5341 - val_acc: 0.0342\n",
      "Epoch 27/50\n",
      "5942/5942 [==============================] - 2604s 438ms/step - loss: 2.9207 - acc: 0.3411 - val_loss: 7.8418 - val_acc: 0.0440\n",
      "Epoch 28/50\n",
      "5942/5942 [==============================] - 2601s 438ms/step - loss: 2.9311 - acc: 0.3408 - val_loss: 7.8526 - val_acc: 0.0587\n",
      "Epoch 29/50\n",
      "5942/5942 [==============================] - 2604s 438ms/step - loss: 2.9024 - acc: 0.3463 - val_loss: 8.0768 - val_acc: 0.0342\n",
      "Epoch 30/50\n",
      "5942/5942 [==============================] - 2590s 436ms/step - loss: 2.9623 - acc: 0.3409 - val_loss: 8.2681 - val_acc: 0.0245\n",
      "Epoch 31/50\n",
      "5942/5942 [==============================] - 2600s 438ms/step - loss: 2.9362 - acc: 0.3407 - val_loss: 9.2481 - val_acc: 0.0367\n",
      "Epoch 32/50\n",
      "5942/5942 [==============================] - 2597s 437ms/step - loss: 2.9256 - acc: 0.3447 - val_loss: 8.1994 - val_acc: 0.0269\n",
      "Epoch 33/50\n",
      "5942/5942 [==============================] - 2731s 460ms/step - loss: 2.9537 - acc: 0.3418 - val_loss: 7.9722 - val_acc: 0.0367\n",
      "Epoch 34/50\n",
      "5942/5942 [==============================] - 2660s 448ms/step - loss: 2.9869 - acc: 0.3387 - val_loss: 7.8614 - val_acc: 0.0196\n",
      "Epoch 35/50\n",
      "5942/5942 [==============================] - 2646s 445ms/step - loss: 2.9980 - acc: 0.3392 - val_loss: 7.5238 - val_acc: 0.0269\n",
      "Epoch 36/50\n",
      "5942/5942 [==============================] - 2577s 434ms/step - loss: 3.0141 - acc: 0.3340 - val_loss: 8.2394 - val_acc: 0.0367\n",
      "Epoch 37/50\n",
      "5942/5942 [==============================] - 2571s 433ms/step - loss: 3.0563 - acc: 0.3314 - val_loss: 9.9168 - val_acc: 0.0220\n",
      "Epoch 38/50\n",
      "5942/5942 [==============================] - 2576s 434ms/step - loss: 3.0759 - acc: 0.3297 - val_loss: 8.1115 - val_acc: 0.0318\n",
      "Epoch 39/50\n",
      "5942/5942 [==============================] - 2587s 435ms/step - loss: 3.1050 - acc: 0.3279 - val_loss: 8.2069 - val_acc: 0.0244\n",
      "Epoch 40/50\n",
      "5942/5942 [==============================] - 2589s 436ms/step - loss: 3.1609 - acc: 0.3200 - val_loss: 8.2554 - val_acc: 0.0342\n",
      "Epoch 41/50\n",
      "5942/5942 [==============================] - 2588s 436ms/step - loss: 3.1705 - acc: 0.3192 - val_loss: 8.7136 - val_acc: 0.0269\n",
      "Epoch 42/50\n",
      "5942/5942 [==============================] - 2581s 434ms/step - loss: 3.1645 - acc: 0.3201 - val_loss: 8.3049 - val_acc: 0.0293\n",
      "Epoch 43/50\n",
      "5942/5942 [==============================] - 2581s 434ms/step - loss: 3.1809 - acc: 0.3198 - val_loss: 8.7027 - val_acc: 0.0269\n",
      "Epoch 44/50\n",
      "5942/5942 [==============================] - 2581s 434ms/step - loss: 3.1756 - acc: 0.3221 - val_loss: 9.2439 - val_acc: 0.0342\n",
      "Epoch 45/50\n",
      "5942/5942 [==============================] - 2584s 435ms/step - loss: 3.2166 - acc: 0.3146 - val_loss: 8.7452 - val_acc: 0.0220\n",
      "Epoch 46/50\n",
      "5942/5942 [==============================] - 2585s 435ms/step - loss: 3.2161 - acc: 0.3151 - val_loss: 8.6837 - val_acc: 0.0293\n",
      "Epoch 47/50\n",
      "5942/5942 [==============================] - 2585s 435ms/step - loss: 3.2328 - acc: 0.3133 - val_loss: 8.2549 - val_acc: 0.0244\n",
      "Epoch 48/50\n",
      "5942/5942 [==============================] - 2592s 436ms/step - loss: 3.2553 - acc: 0.3129 - val_loss: 9.2356 - val_acc: 0.0294\n",
      "Epoch 49/50\n",
      "5942/5942 [==============================] - 2588s 436ms/step - loss: 3.3082 - acc: 0.3045 - val_loss: 8.3085 - val_acc: 0.0367\n",
      "Epoch 50/50\n",
      "5942/5942 [==============================] - 2591s 436ms/step - loss: 3.3468 - acc: 0.3020 - val_loss: 8.4327 - val_acc: 0.0196\n",
      "fit_generator\n",
      "saved model and weights\n"
     ]
    }
   ],
   "source": [
    "# this is the augmentation configuration we will use for testing:\n",
    "# only rescaling\n",
    "test_datagen = ImageDataGenerator(rescale=1. / 255)\n",
    "\n",
    "train_generator = train_datagen.flow_from_directory(\n",
    "    train_data_dir,\n",
    "    target_size=(img_width, img_height),\n",
    "    batch_size=batch_size,\n",
    "    class_mode='categorical')\n",
    "\n",
    "print(\"train_generator\")\n",
    "\n",
    "validation_generator = test_datagen.flow_from_directory(\n",
    "    validation_data_dir,\n",
    "    target_size=(img_width, img_height),\n",
    "    batch_size=batch_size,\n",
    "    class_mode='categorical')\n",
    "\n",
    "print(\"validation_generator\")\n",
    "\n",
    "model.fit_generator(\n",
    "    train_generator,\n",
    "    steps_per_epoch=nb_train_samples,\n",
    "    epochs=epochs,\n",
    "    validation_data=validation_generator,\n",
    "    validation_steps=nb_validation_samples)\n",
    "\n",
    "print(\"fit_generator\")\n",
    "\n",
    "model.save('birds_model2.h5')\n",
    "model.save_weights('birds_weights2.h5')\n",
    "print(\"saved model and weights\")"
   ]
  },
  {
   "cell_type": "code",
   "execution_count": 4,
   "metadata": {},
   "outputs": [
    {
     "name": "stdout",
     "output_type": "stream",
     "text": [
      "[138] [[0. 0. 0. 0. 0. 0. 0. 0. 0. 0. 0. 0. 0. 0. 0. 0. 0. 0. 0. 0. 0. 0. 0. 0.\n",
      "  0. 0. 0. 0. 0. 0. 0. 0. 0. 0. 0. 0. 0. 0. 0. 0. 0. 0. 0. 0. 0. 0. 0. 0.\n",
      "  0. 0. 0. 0. 0. 0. 0. 0. 0. 0. 0. 0. 0. 0. 0. 0. 0. 0. 0. 0. 0. 0. 0. 0.\n",
      "  0. 0. 0. 0. 0. 0. 0. 0. 0. 0. 0. 0. 0. 0. 0. 0. 0. 0. 0. 0. 0. 0. 0. 0.\n",
      "  0. 0. 0. 0. 0. 0. 0. 0. 0. 0. 0. 0. 0. 0. 0. 0. 0. 0. 0. 0. 0. 0. 0. 0.\n",
      "  0. 0. 0. 0. 0. 0. 0. 0. 0. 0. 0. 0. 0. 0. 0. 0. 0. 0. 1. 0. 0. 0. 0. 0.\n",
      "  0. 0. 0. 0. 0. 0. 0. 0. 0. 0. 0. 0. 0. 0. 0. 0. 0. 0. 0. 0. 0. 0. 0. 0.\n",
      "  0. 0. 0. 0. 0. 0. 0. 0. 0. 0. 0. 0. 0. 0. 0. 0. 0. 0. 0. 0. 0. 0. 0. 0.\n",
      "  0. 0. 0. 0. 0. 0. 0. 0.]]\n"
     ]
    }
   ],
   "source": [
    "from keras.models import load_model\n",
    "from keras.preprocessing.image import img_to_array, load_img\n",
    "\n",
    "test_model = load_model('birds_model2.h5')\n",
    "img = load_img('image_to_predict.jpg',False,target_size=(img_width,img_height))\n",
    "x = img_to_array(img)\n",
    "x = np.expand_dims(x, axis=0)\n",
    "preds = test_model.predict_classes(x)\n",
    "probs = test_model.predict_proba(x)\n",
    "print(preds, probs)"
   ]
  },
  {
   "cell_type": "code",
   "execution_count": null,
   "metadata": {},
   "outputs": [],
   "source": []
  }
 ],
 "metadata": {
  "celltoolbar": "Raw Cell Format",
  "kernelspec": {
   "display_name": "Python 3",
   "language": "python",
   "name": "python3"
  },
  "language_info": {
   "codemirror_mode": {
    "name": "ipython",
    "version": 3
   },
   "file_extension": ".py",
   "mimetype": "text/x-python",
   "name": "python",
   "nbconvert_exporter": "python",
   "pygments_lexer": "ipython3",
   "version": "3.6.6"
  }
 },
 "nbformat": 4,
 "nbformat_minor": 2
}
